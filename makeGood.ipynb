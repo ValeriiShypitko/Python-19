{
 "cells": [
  {
   "cell_type": "code",
   "execution_count": null,
   "id": "bfaea049-5e18-44ac-b72a-7753595e772d",
   "metadata": {},
   "outputs": [],
   "source": []
  }
 ],
 "metadata": {
  "kernelspec": {
   "display_name": "",
   "name": ""
  },
  "language_info": {
   "name": ""
  }
 },
 "nbformat": 4,
 "nbformat_minor": 5
}
