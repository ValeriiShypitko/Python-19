{
 "cells": [
  {
   "cell_type": "code",
   "execution_count": 6,
   "id": "bfaea049-5e18-44ac-b72a-7753595e772d",
   "metadata": {},
   "outputs": [],
   "source": [
    "class Solution(object):\n",
    "    def makeGood(self, s):\n",
    "        \"\"\"\n",
    "        :type s: str\n",
    "        :rtype: str\n",
    "        \"\"\"\n",
    "        stack = [s[0]]\n",
    "        for item in range(1,len(s)):\n",
    "            if stack and abs(ord(stack[-1]) - ord(s[item])) == 32:\n",
    "                stack.pop(-1)\n",
    "                continue\n",
    "            stack.append(s[item])\n",
    "        return \"\".join(stack)\n"
   ]
  },
  {
   "cell_type": "code",
   "execution_count": 7,
   "id": "c5a2b95a-421b-457c-9eff-3ba2196f9be7",
   "metadata": {},
   "outputs": [
    {
     "name": "stdout",
     "output_type": "stream",
     "text": [
      "ad\n"
     ]
    }
   ],
   "source": [
    "obj = Solution()\n",
    "print(obj.makeGood(\"abBcCDdaAd\"))"
   ]
  },
  {
   "cell_type": "code",
   "execution_count": null,
   "id": "9efe12b9-f91e-4441-af95-ba8680ddc9ef",
   "metadata": {},
   "outputs": [],
   "source": []
  }
 ],
 "metadata": {
  "kernelspec": {
   "display_name": "Python [conda env:base] *",
   "language": "python",
   "name": "conda-base-py"
  },
  "language_info": {
   "codemirror_mode": {
    "name": "ipython",
    "version": 3
   },
   "file_extension": ".py",
   "mimetype": "text/x-python",
   "name": "python",
   "nbconvert_exporter": "python",
   "pygments_lexer": "ipython3",
   "version": "3.13.5"
  }
 },
 "nbformat": 4,
 "nbformat_minor": 5
}
